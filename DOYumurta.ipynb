{
  "nbformat": 4,
  "nbformat_minor": 0,
  "metadata": {
    "colab": {
      "provenance": [],
      "authorship_tag": "ABX9TyNLkDQtbTLz7jPgVMP8RzIh",
      "include_colab_link": true
    },
    "kernelspec": {
      "name": "python3",
      "display_name": "Python 3"
    },
    "language_info": {
      "name": "python"
    }
  },
  "cells": [
    {
      "cell_type": "markdown",
      "metadata": {
        "id": "view-in-github",
        "colab_type": "text"
      },
      "source": [
        "<a href=\"https://colab.research.google.com/github/UmmuGulsumSima/UmmuGulsumSima/blob/main/DOYumurta.ipynb\" target=\"_parent\"><img src=\"https://colab.research.google.com/assets/colab-badge.svg\" alt=\"Open In Colab\"/></a>"
      ]
    },
    {
      "cell_type": "code",
      "execution_count": 2,
      "metadata": {
        "id": "X3eR39_DoJFH"
      },
      "outputs": [],
      "source": [
        "import pandas as pd\n",
        "import numpy as np\n",
        "from sklearn.model_selection import train_test_split\n",
        "from sklearn.ensemble import RandomForestRegressor\n",
        "from sklearn.metrics import mean_squared_error, r2_score\n",
        "import matplotlib.pyplot as plt\n",
        "import seaborn as sns\n",
        "\n",
        "\n"
      ]
    },
    {
      "cell_type": "code",
      "source": [
        "from google.colab import files\n",
        "\n",
        "# Dosyayı yüklemek için bu satırı çalıştırın\n",
        "uploaded = files.upload()"
      ],
      "metadata": {
        "colab": {
          "base_uri": "https://localhost:8080/",
          "height": 73
        },
        "id": "mv-MDK8k65NX",
        "outputId": "4ecfe711-0774-4d8e-d1e5-7f85f0fcfa9f"
      },
      "execution_count": 3,
      "outputs": [
        {
          "output_type": "display_data",
          "data": {
            "text/plain": [
              "<IPython.core.display.HTML object>"
            ],
            "text/html": [
              "\n",
              "     <input type=\"file\" id=\"files-f8a65ea7-f7bc-421a-8608-2486d24045dd\" name=\"files[]\" multiple disabled\n",
              "        style=\"border:none\" />\n",
              "     <output id=\"result-f8a65ea7-f7bc-421a-8608-2486d24045dd\">\n",
              "      Upload widget is only available when the cell has been executed in the\n",
              "      current browser session. Please rerun this cell to enable.\n",
              "      </output>\n",
              "      <script>// Copyright 2017 Google LLC\n",
              "//\n",
              "// Licensed under the Apache License, Version 2.0 (the \"License\");\n",
              "// you may not use this file except in compliance with the License.\n",
              "// You may obtain a copy of the License at\n",
              "//\n",
              "//      http://www.apache.org/licenses/LICENSE-2.0\n",
              "//\n",
              "// Unless required by applicable law or agreed to in writing, software\n",
              "// distributed under the License is distributed on an \"AS IS\" BASIS,\n",
              "// WITHOUT WARRANTIES OR CONDITIONS OF ANY KIND, either express or implied.\n",
              "// See the License for the specific language governing permissions and\n",
              "// limitations under the License.\n",
              "\n",
              "/**\n",
              " * @fileoverview Helpers for google.colab Python module.\n",
              " */\n",
              "(function(scope) {\n",
              "function span(text, styleAttributes = {}) {\n",
              "  const element = document.createElement('span');\n",
              "  element.textContent = text;\n",
              "  for (const key of Object.keys(styleAttributes)) {\n",
              "    element.style[key] = styleAttributes[key];\n",
              "  }\n",
              "  return element;\n",
              "}\n",
              "\n",
              "// Max number of bytes which will be uploaded at a time.\n",
              "const MAX_PAYLOAD_SIZE = 100 * 1024;\n",
              "\n",
              "function _uploadFiles(inputId, outputId) {\n",
              "  const steps = uploadFilesStep(inputId, outputId);\n",
              "  const outputElement = document.getElementById(outputId);\n",
              "  // Cache steps on the outputElement to make it available for the next call\n",
              "  // to uploadFilesContinue from Python.\n",
              "  outputElement.steps = steps;\n",
              "\n",
              "  return _uploadFilesContinue(outputId);\n",
              "}\n",
              "\n",
              "// This is roughly an async generator (not supported in the browser yet),\n",
              "// where there are multiple asynchronous steps and the Python side is going\n",
              "// to poll for completion of each step.\n",
              "// This uses a Promise to block the python side on completion of each step,\n",
              "// then passes the result of the previous step as the input to the next step.\n",
              "function _uploadFilesContinue(outputId) {\n",
              "  const outputElement = document.getElementById(outputId);\n",
              "  const steps = outputElement.steps;\n",
              "\n",
              "  const next = steps.next(outputElement.lastPromiseValue);\n",
              "  return Promise.resolve(next.value.promise).then((value) => {\n",
              "    // Cache the last promise value to make it available to the next\n",
              "    // step of the generator.\n",
              "    outputElement.lastPromiseValue = value;\n",
              "    return next.value.response;\n",
              "  });\n",
              "}\n",
              "\n",
              "/**\n",
              " * Generator function which is called between each async step of the upload\n",
              " * process.\n",
              " * @param {string} inputId Element ID of the input file picker element.\n",
              " * @param {string} outputId Element ID of the output display.\n",
              " * @return {!Iterable<!Object>} Iterable of next steps.\n",
              " */\n",
              "function* uploadFilesStep(inputId, outputId) {\n",
              "  const inputElement = document.getElementById(inputId);\n",
              "  inputElement.disabled = false;\n",
              "\n",
              "  const outputElement = document.getElementById(outputId);\n",
              "  outputElement.innerHTML = '';\n",
              "\n",
              "  const pickedPromise = new Promise((resolve) => {\n",
              "    inputElement.addEventListener('change', (e) => {\n",
              "      resolve(e.target.files);\n",
              "    });\n",
              "  });\n",
              "\n",
              "  const cancel = document.createElement('button');\n",
              "  inputElement.parentElement.appendChild(cancel);\n",
              "  cancel.textContent = 'Cancel upload';\n",
              "  const cancelPromise = new Promise((resolve) => {\n",
              "    cancel.onclick = () => {\n",
              "      resolve(null);\n",
              "    };\n",
              "  });\n",
              "\n",
              "  // Wait for the user to pick the files.\n",
              "  const files = yield {\n",
              "    promise: Promise.race([pickedPromise, cancelPromise]),\n",
              "    response: {\n",
              "      action: 'starting',\n",
              "    }\n",
              "  };\n",
              "\n",
              "  cancel.remove();\n",
              "\n",
              "  // Disable the input element since further picks are not allowed.\n",
              "  inputElement.disabled = true;\n",
              "\n",
              "  if (!files) {\n",
              "    return {\n",
              "      response: {\n",
              "        action: 'complete',\n",
              "      }\n",
              "    };\n",
              "  }\n",
              "\n",
              "  for (const file of files) {\n",
              "    const li = document.createElement('li');\n",
              "    li.append(span(file.name, {fontWeight: 'bold'}));\n",
              "    li.append(span(\n",
              "        `(${file.type || 'n/a'}) - ${file.size} bytes, ` +\n",
              "        `last modified: ${\n",
              "            file.lastModifiedDate ? file.lastModifiedDate.toLocaleDateString() :\n",
              "                                    'n/a'} - `));\n",
              "    const percent = span('0% done');\n",
              "    li.appendChild(percent);\n",
              "\n",
              "    outputElement.appendChild(li);\n",
              "\n",
              "    const fileDataPromise = new Promise((resolve) => {\n",
              "      const reader = new FileReader();\n",
              "      reader.onload = (e) => {\n",
              "        resolve(e.target.result);\n",
              "      };\n",
              "      reader.readAsArrayBuffer(file);\n",
              "    });\n",
              "    // Wait for the data to be ready.\n",
              "    let fileData = yield {\n",
              "      promise: fileDataPromise,\n",
              "      response: {\n",
              "        action: 'continue',\n",
              "      }\n",
              "    };\n",
              "\n",
              "    // Use a chunked sending to avoid message size limits. See b/62115660.\n",
              "    let position = 0;\n",
              "    do {\n",
              "      const length = Math.min(fileData.byteLength - position, MAX_PAYLOAD_SIZE);\n",
              "      const chunk = new Uint8Array(fileData, position, length);\n",
              "      position += length;\n",
              "\n",
              "      const base64 = btoa(String.fromCharCode.apply(null, chunk));\n",
              "      yield {\n",
              "        response: {\n",
              "          action: 'append',\n",
              "          file: file.name,\n",
              "          data: base64,\n",
              "        },\n",
              "      };\n",
              "\n",
              "      let percentDone = fileData.byteLength === 0 ?\n",
              "          100 :\n",
              "          Math.round((position / fileData.byteLength) * 100);\n",
              "      percent.textContent = `${percentDone}% done`;\n",
              "\n",
              "    } while (position < fileData.byteLength);\n",
              "  }\n",
              "\n",
              "  // All done.\n",
              "  yield {\n",
              "    response: {\n",
              "      action: 'complete',\n",
              "    }\n",
              "  };\n",
              "}\n",
              "\n",
              "scope.google = scope.google || {};\n",
              "scope.google.colab = scope.google.colab || {};\n",
              "scope.google.colab._files = {\n",
              "  _uploadFiles,\n",
              "  _uploadFilesContinue,\n",
              "};\n",
              "})(self);\n",
              "</script> "
            ]
          },
          "metadata": {}
        },
        {
          "output_type": "stream",
          "name": "stdout",
          "text": [
            "Saving Yumurta.csv to Yumurta.csv\n"
          ]
        }
      ]
    },
    {
      "cell_type": "code",
      "source": [
        "import pandas as pd\n",
        "\n",
        "# Yüklenen dosyayı oku\n",
        "data = pd.read_csv(\"Yumurta.csv\", encoding=\"utf-8\", delimiter=';')\n",
        "print(data.head())\n"
      ],
      "metadata": {
        "colab": {
          "base_uri": "https://localhost:8080/"
        },
        "id": "R-IwvM2U6-0K",
        "outputId": "8b9a406c-af77-46b6-8098-5316f920872f"
      },
      "execution_count": 4,
      "outputs": [
        {
          "output_type": "stream",
          "name": "stdout",
          "text": [
            "   Yaş(Hafta) AĞIRLIK UZUNLUK GENİŞLİK Şekil İndeksi  MUKAVEMET     Ortalama\n",
            "0          33    55,8   53,22    42,98   80,75911312       5007  1710,246371\n",
            "1          33    55,2   52,09     43,5   83,50931081       4189   1438,66977\n",
            "2          33    53,6   52,63    42,61   80,96142884       4732   1618,52381\n",
            "3          33    57,8   53,31    43,06   80,77283812       5380  1834,610946\n",
            "4          33    62,9   55,91    44,98   80,45072438       3208  1111,143575\n"
          ]
        }
      ]
    },
    {
      "cell_type": "code",
      "source": [
        "import pandas as pd\n",
        "import numpy as np\n",
        "from sklearn.model_selection import train_test_split\n",
        "from sklearn.linear_model import LogisticRegression\n",
        "from sklearn.tree import DecisionTreeClassifier\n",
        "from sklearn.ensemble import RandomForestClassifier\n",
        "from sklearn.svm import SVC\n",
        "from sklearn.metrics import accuracy_score, classification_report, confusion_matrix\n",
        "import joblib\n"
      ],
      "metadata": {
        "id": "wJv_kMoa-DBV"
      },
      "execution_count": 5,
      "outputs": []
    },
    {
      "cell_type": "code",
      "source": [
        "print(data.columns.tolist())\n"
      ],
      "metadata": {
        "colab": {
          "base_uri": "https://localhost:8080/"
        },
        "id": "Ish5hneZahup",
        "outputId": "17e5f7f2-2aea-47c2-f179-69b2736354e1"
      },
      "execution_count": 6,
      "outputs": [
        {
          "output_type": "stream",
          "name": "stdout",
          "text": [
            "['Yaş(Hafta)', 'AĞIRLIK', 'UZUNLUK', 'GENİŞLİK', 'Şekil İndeksi', 'MUKAVEMET', 'Ortalama']\n"
          ]
        }
      ]
    },
    {
      "cell_type": "code",
      "source": [
        "# Sayısal sütunları tanımlayın\n",
        "numeric_columns = ['Yaş(Hafta)', 'AĞIRLIK', 'UZUNLUK', 'GENİŞLİK', 'Şekil İndeksi', 'MUKAVEMET', 'Ortalama']\n",
        "\n",
        "# Sayısal sütunlardaki virgül (',') yerine nokta ('.') koyup, veri türünü sayısal formata dönüştürün\n",
        "for col in numeric_columns:\n",
        "    # Eğer sütun string türündeyse virgülleri noktaya çevirip sayısal tipe dönüştür\n",
        "    if data[col].dtype == 'object':  # Eğer sütun string ise\n",
        "        data[col] = data[col].str.replace(',', '.').astype(float)\n",
        "    else:\n",
        "        # Zaten sayısal bir veri varsa, herhangi bir dönüşüm yapmaya gerek yok\n",
        "        data[col] = data[col].astype(float)\n",
        "\n",
        "# Bağımsız ve bağımlı değişkenleri seç\n",
        "X = data[['Yaş(Hafta)', 'AĞIRLIK', 'UZUNLUK', 'GENİŞLİK', 'Şekil İndeksi', 'MUKAVEMET']]\n",
        "y = data['Ortalama']\n",
        "\n",
        "# Veriyi eğitim ve test setlerine böl\n",
        "from sklearn.model_selection import train_test_split\n",
        "X_train, X_test, y_train, y_test = train_test_split(X, y, test_size=0.2, random_state=42)\n",
        "\n",
        "# Eğitim ve test setlerinin boyutlarını yazdır\n",
        "print(f\"Eğitim Seti: {X_train.shape}, Test Seti: {X_test.shape}\")\n"
      ],
      "metadata": {
        "colab": {
          "base_uri": "https://localhost:8080/"
        },
        "id": "1VEx_wTgeHfK",
        "outputId": "b8f25f02-d284-4a9e-cd33-aaaedcc3ac19"
      },
      "execution_count": 7,
      "outputs": [
        {
          "output_type": "stream",
          "name": "stdout",
          "text": [
            "Eğitim Seti: (216, 6), Test Seti: (54, 6)\n"
          ]
        }
      ]
    },
    {
      "cell_type": "code",
      "source": [
        "from sklearn.ensemble import RandomForestRegressor\n",
        "from sklearn.metrics import mean_squared_error, r2_score\n",
        "import matplotlib.pyplot as plt\n",
        "import pickle  # Modeli kaydetmek için\n",
        "from google.colab import files  # Colab'dan indirme için\n",
        "\n",
        "# Modeli tanımla\n",
        "rf_model = RandomForestRegressor(random_state=42)\n",
        "\n",
        "# Modeli eğit\n",
        "rf_model.fit(X_train, y_train)\n",
        "\n",
        "# Tahmin yap\n",
        "y_pred = rf_model.predict(X_test)\n",
        "\n",
        "# Performans metriklerini hesapla\n",
        "mse = mean_squared_error(y_test, y_pred)\n",
        "rmse = mse ** 0.5\n",
        "r2 = r2_score(y_test, y_pred)\n",
        "\n",
        "print(f\"Mean Squared Error (MSE): {mse}\")\n",
        "print(f\"Root Mean Squared Error (RMSE): {rmse}\")\n",
        "print(f\"R² Score: {r2}\")\n",
        "\n",
        "# Gerçek ve tahmin edilen değerlerin görselleştirilmesi\n",
        "plt.figure(figsize=(10, 6))\n",
        "plt.scatter(y_test, y_pred, alpha=0.7, color='blue')\n",
        "plt.plot([y_test.min(), y_test.max()], [y_test.min(), y_test.max()], '--', color='red', linewidth=2)\n",
        "plt.title(\"Gerçek vs Tahmin\")\n",
        "plt.xlabel(\"Gerçek Değerler\")\n",
        "plt.ylabel(\"Tahmin Edilen Değerler\")\n",
        "plt.show()\n",
        "\n",
        "# Modeli kaydet\n",
        "with open(\"random_forest_model.pkl\", \"wb\") as file:\n",
        "    pickle.dump(rf_model, file)\n",
        "print(\"Model başarıyla kaydedildi: random_forest_model.pkl\")\n",
        "\n",
        "# Colab'dan modeli indir\n",
        "files.download(\"random_forest_model.pkl\")\n"
      ],
      "metadata": {
        "colab": {
          "base_uri": "https://localhost:8080/",
          "height": 633
        },
        "id": "pIxlMX7vewEx",
        "outputId": "b1396f39-fcf6-4580-9c79-70f847230035"
      },
      "execution_count": 8,
      "outputs": [
        {
          "output_type": "stream",
          "name": "stdout",
          "text": [
            "Mean Squared Error (MSE): 2818.4251140585798\n",
            "Root Mean Squared Error (RMSE): 53.08884170952103\n",
            "R² Score: 0.9747591057144762\n"
          ]
        },
        {
          "output_type": "display_data",
          "data": {
            "text/plain": [
              "<Figure size 1000x600 with 1 Axes>"
            ],
            "image/png": "[encoded data removed]"
          },
          "metadata": {}
        },
        {
          "output_type": "stream",
          "name": "stdout",
          "text": [
            "Model başarıyla kaydedildi: random_forest_model.pkl\n"
          ]
        },
        {
          "output_type": "display_data",
          "data": {
            "text/plain": [
              "<IPython.core.display.Javascript object>"
            ],
            "application/javascript": [
              "\n",
              "    async function download(id, filename, size) {\n",
              "      if (!google.colab.kernel.accessAllowed) {\n",
              "        return;\n",
              "      }\n",
              "      const div = document.createElement('div');\n",
              "      const label = document.createElement('label');\n",
              "      label.textContent = `Downloading \"${filename}\": `;\n",
              "      div.appendChild(label);\n",
              "      const progress = document.createElement('progress');\n",
              "      progress.max = size;\n",
              "      div.appendChild(progress);\n",
              "      document.body.appendChild(div);\n",
              "\n",
              "      const buffers = [];\n",
              "      let downloaded = 0;\n",
              "\n",
              "      const channel = await google.colab.kernel.comms.open(id);\n",
              "      // Send a message to notify the kernel that we're ready.\n",
              "      channel.send({})\n",
              "\n",
              "      for await (const message of channel.messages) {\n",
              "        // Send a message to notify the kernel that we're ready.\n",
              "        channel.send({})\n",
              "        if (message.buffers) {\n",
              "          for (const buffer of message.buffers) {\n",
              "            buffers.push(buffer);\n",
              "            downloaded += buffer.byteLength;\n",
              "            progress.value = downloaded;\n",
              "          }\n",
              "        }\n",
              "      }\n",
              "      const blob = new Blob(buffers, {type: 'application/binary'});\n",
              "      const a = document.createElement('a');\n",
              "      a.href = window.URL.createObjectURL(blob);\n",
              "      a.download = filename;\n",
              "      div.appendChild(a);\n",
              "      a.click();\n",
              "      div.remove();\n",
              "    }\n",
              "  "
            ]
          },
          "metadata": {}
        },
        {
          "output_type": "display_data",
          "data": {
            "text/plain": [
              "<IPython.core.display.Javascript object>"
            ],
            "application/javascript": [
              "download(\"download_81ac5548-290a-4d06-a03d-0dd058615e1a\", \"random_forest_model.pkl\", 1985554)"
            ]
          },
          "metadata": {}
        }
      ]
    },
    {
      "cell_type": "markdown",
      "source": [
        "MSE (Mean Squared Error), modelin tahmin ettiği değerlerle gerçek değerler arasındaki farkın karesinin ortalamasıdır. Buradaki 539.51'lik değer, modelin her bir tahmini için yaptığı hata miktarının ortalama karesini gösteriyo\n",
        "//\n",
        "RMSE (Root Mean Squared Error), MSE'nin kareköküdür ve genellikle daha anlamlıdır çünkü aynı birimde sonuç verir (yani, tahminlerinizin birimiyle). Buradaki 23.23'lük değer, modelin tahmin hatalarının ortalama büyüklüğünü anlamanızı sağlar."
      ],
      "metadata": {
        "id": "x42aa_6xiOYF"
      }
    },
    {
      "cell_type": "code",
      "source": [
        "from sklearn.model_selection import cross_val_score\n",
        "import numpy as np\n",
        "\n",
        "# Kross-validasyon ile modelin doğruluğunu kontrol et\n",
        "cv_scores = cross_val_score(rf_model, X, y, cv=5, scoring='neg_mean_squared_error')\n",
        "\n",
        "# Kross-validasyon sonuçları\n",
        "print(f\"Cross-validation MSE: {-cv_scores.mean()}\")\n",
        "print(f\"Cross-validation RMSE: {np.sqrt(-cv_scores.mean())}\")\n"
      ],
      "metadata": {
        "colab": {
          "base_uri": "https://localhost:8080/"
        },
        "id": "IhIG1wsLhkS0",
        "outputId": "397de0fd-01f4-4e15-af62-ee70ba7a6fb1"
      },
      "execution_count": null,
      "outputs": [
        {
          "output_type": "stream",
          "name": "stdout",
          "text": [
            "Cross-validation MSE: 539.5050266331297\n",
            "Cross-validation RMSE: 23.22724750445325\n"
          ]
        }
      ]
    },
    {
      "cell_type": "code",
      "source": [
        "from sklearn.linear_model import LinearRegression\n",
        "\n",
        "# Modeli tanımla\n",
        "lr_model = LinearRegression()\n",
        "\n",
        "# Modeli eğit\n",
        "lr_model.fit(X_train, y_train)\n",
        "\n",
        "# Tahmin yap\n",
        "y_pred_lr = lr_model.predict(X_test)\n",
        "\n",
        "# Performans metriklerini hesapla\n",
        "mse_lr = mean_squared_error(y_test, y_pred_lr)\n",
        "rmse_lr = mse_lr ** 0.5\n",
        "r2_lr = r2_score(y_test, y_pred_lr)\n",
        "\n",
        "print(f\"Linear Regression - MSE: {mse_lr}\")\n",
        "print(f\"Linear Regression - RMSE: {rmse_lr}\")\n",
        "print(f\"Linear Regression - R² Score: {r2_lr}\")\n"
      ],
      "metadata": {
        "colab": {
          "base_uri": "https://localhost:8080/"
        },
        "id": "TEenNMjqjpot",
        "outputId": "fc576ebe-2f47-4cc9-bdfc-700fbaf00d8f"
      },
      "execution_count": null,
      "outputs": [
        {
          "output_type": "stream",
          "name": "stdout",
          "text": [
            "Linear Regression - MSE: 7.502160482494361e-14\n",
            "Linear Regression - RMSE: 2.7390072074557164e-07\n",
            "Linear Regression - R² Score: 1.0\n"
          ]
        }
      ]
    },
    {
      "cell_type": "code",
      "source": [
        "from sklearn.tree import DecisionTreeRegressor\n",
        "\n",
        "# Modeli tanımla\n",
        "dt_model = DecisionTreeRegressor(random_state=42)\n",
        "\n",
        "# Modeli eğit\n",
        "dt_model.fit(X_train, y_train)\n",
        "\n",
        "# Tahmin yap\n",
        "y_pred_dt = dt_model.predict(X_test)\n",
        "\n",
        "# Performans metriklerini hesapla\n",
        "mse_dt = mean_squared_error(y_test, y_pred_dt)\n",
        "rmse_dt = mse_dt ** 0.5\n",
        "r2_dt = r2_score(y_test, y_pred_dt)\n",
        "\n",
        "print(f\"Decision Tree Regressor - MSE: {mse_dt}\")\n",
        "print(f\"Decision Tree Regressor - RMSE: {rmse_dt}\")\n",
        "print(f\"Decision Tree Regressor - R² Score: {r2_dt}\")\n"
      ],
      "metadata": {
        "colab": {
          "base_uri": "https://localhost:8080/"
        },
        "id": "OS0u0nx1jutK",
        "outputId": "e3aff627-7214-4719-e77e-a30142ca9228"
      },
      "execution_count": null,
      "outputs": [
        {
          "output_type": "stream",
          "name": "stdout",
          "text": [
            "Decision Tree Regressor - MSE: 1289.6196295299176\n",
            "Decision Tree Regressor - RMSE: 35.91127440693128\n",
            "Decision Tree Regressor - R² Score: 0.9884505880340292\n"
          ]
        }
      ]
    },
    {
      "cell_type": "markdown",
      "source": [
        "SVR çok da uygun bir model değil"
      ],
      "metadata": {
        "id": "NL5et3fiuNtM"
      }
    },
    {
      "cell_type": "code",
      "source": [
        "from sklearn.svm import SVR\n",
        "\n",
        "# Modeli tanımla\n",
        "svr_model = SVR()\n",
        "\n",
        "# Modeli eğit\n",
        "svr_model.fit(X_train, y_train)\n",
        "\n",
        "# Tahmin yap\n",
        "y_pred_svr = svr_model.predict(X_test)\n",
        "\n",
        "# Performans metriklerini hesapla\n",
        "mse_svr = mean_squared_error(y_test, y_pred_svr)\n",
        "rmse_svr = mse_svr ** 0.5\n",
        "r2_svr = r2_score(y_test, y_pred_svr)\n",
        "\n",
        "print(f\"Support Vector Regression - MSE: {mse_svr}\")\n",
        "print(f\"Support Vector Regression - RMSE: {rmse_svr}\")\n",
        "print(f\"Support Vector Regression - R² Score: {r2_svr}\")\n"
      ],
      "metadata": {
        "colab": {
          "base_uri": "https://localhost:8080/"
        },
        "id": "KTusPwG7j1vq",
        "outputId": "7a090803-4a22-47dd-855d-4ddde36ecd0d"
      },
      "execution_count": null,
      "outputs": [
        {
          "output_type": "stream",
          "name": "stdout",
          "text": [
            "Support Vector Regression - MSE: 105476.55067184828\n",
            "Support Vector Regression - RMSE: 324.77153611708076\n",
            "Support Vector Regression - R² Score: 0.055386480971274965\n"
          ]
        }
      ]
    },
    {
      "cell_type": "code",
      "source": [
        "from sklearn.neighbors import KNeighborsRegressor\n",
        "\n",
        "# Modeli tanımla\n",
        "knn_model = KNeighborsRegressor()\n",
        "\n",
        "# Modeli eğit\n",
        "knn_model.fit(X_train, y_train)\n",
        "\n",
        "# Tahmin yap\n",
        "y_pred_knn = knn_model.predict(X_test)\n",
        "\n",
        "# Performans metriklerini hesapla\n",
        "mse_knn = mean_squared_error(y_test, y_pred_knn)\n",
        "rmse_knn = mse_knn ** 0.5\n",
        "r2_knn = r2_score(y_test, y_pred_knn)\n",
        "\n",
        "print(f\"KNN Regressor - MSE: {mse_knn}\")\n",
        "print(f\"KNN Regressor - RMSE: {rmse_knn}\")\n",
        "print(f\"KNN Regressor - R² Score: {r2_knn}\")\n"
      ],
      "metadata": {
        "colab": {
          "base_uri": "https://localhost:8080/"
        },
        "id": "C_7C6Grnj8Js",
        "outputId": "71192837-b068-4efc-db7a-808b8274f979"
      },
      "execution_count": null,
      "outputs": [
        {
          "output_type": "stream",
          "name": "stdout",
          "text": [
            "KNN Regressor - MSE: 4678.771037625779\n",
            "KNN Regressor - RMSE: 68.40154265530697\n",
            "KNN Regressor - R² Score: 0.9580984555673286\n"
          ]
        }
      ]
    },
    {
      "cell_type": "code",
      "source": [
        "import seaborn as sns\n",
        "import matplotlib.pyplot as plt\n",
        "\n",
        "# Korelasyon matrisini oluşturun\n",
        "corr_matrix = data.corr()\n",
        "\n",
        "# Korelasyon matrisini görselleştirin\n",
        "plt.figure(figsize=(10, 6))\n",
        "sns.heatmap(corr_matrix, annot=True, cmap='coolwarm', fmt='.2f', linewidths=0.5)\n",
        "plt.title('Korelasyon Matrisi')\n",
        "plt.show()\n"
      ],
      "metadata": {
        "colab": {
          "base_uri": "https://localhost:8080/",
          "height": 547
        },
        "id": "jaIz89lklH4-",
        "outputId": "b9cd01ef-fd53-413d-893f-199e1576d6f4"
      },
      "execution_count": null,
      "outputs": [
        {
          "output_type": "display_data",
          "data": {
            "text/plain": [
              "<Figure size 1000x600 with 2 Axes>"
            ],
            "image/png": "[encoded data removed]"
          },
          "metadata": {}
        }
      ]
    }
  ]
}